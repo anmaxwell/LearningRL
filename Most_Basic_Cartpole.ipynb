{
 "cells": [
  {
   "cell_type": "code",
   "execution_count": 1,
   "metadata": {},
   "outputs": [
    {
     "name": "stderr",
     "output_type": "stream",
     "text": [
      "/Library/Frameworks/Python.framework/Versions/3.7/lib/python3.7/site-packages/ale_py/roms/utils.py:90: DeprecationWarning: SelectableGroups dict interface is deprecated. Use select.\n",
      "  for external in metadata.entry_points().get(self.group, []):\n"
     ]
    }
   ],
   "source": [
    "import gym\n",
    "import random"
   ]
  },
  {
   "cell_type": "code",
   "execution_count": 2,
   "metadata": {},
   "outputs": [],
   "source": [
    "env = gym.make(\"CartPole-v1\")"
   ]
  },
  {
   "cell_type": "markdown",
   "metadata": {},
   "source": [
    "This small basic model will load CartPole from openai gym.  \n",
    "It runs for 10 episodes and up to 500 steps per episode or the pole falls.  It takes a random action from the action space.\n",
    "It prints out the details of each step in the episode"
   ]
  },
  {
   "cell_type": "code",
   "execution_count": 6,
   "metadata": {},
   "outputs": [],
   "source": [
    "def Random_game():\n",
    "    for episode in range(10):\n",
    "        env.reset()\n",
    "        for t in range(500):\n",
    "            env.render()\n",
    "            action = env.action_space.sample()\n",
    "            next_state, reward, done, info = env.step(action)\n",
    "            print(t,next_state, reward, done, action)\n",
    "            if done:\n",
    "                break"
   ]
  },
  {
   "cell_type": "markdown",
   "metadata": {},
   "source": [
    "This model simply prints out the number of steps per episode and the total reward instead of all info"
   ]
  },
  {
   "cell_type": "code",
   "execution_count": 13,
   "metadata": {},
   "outputs": [],
   "source": [
    "def Random_game():\n",
    "    for episode in range(10):\n",
    "        env.reset()\n",
    "        tot_reward = 0\n",
    "        for t in range(500):\n",
    "            env.render()\n",
    "            action = env.action_space.sample()\n",
    "            next_state, reward, done, info = env.step(action)\n",
    "            tot_reward += reward\n",
    "            #print(t,next_state, reward, done, action)\n",
    "            if done:\n",
    "                print(f\"Episode: {episode+1} Number steps {t} Total reward {tot_reward}\")\n",
    "                break"
   ]
  },
  {
   "cell_type": "code",
   "execution_count": 14,
   "metadata": {},
   "outputs": [
    {
     "name": "stdout",
     "output_type": "stream",
     "text": [
      "Episode: 1 Number steps 13 Total reward 14.0\n",
      "Episode: 2 Number steps 15 Total reward 16.0\n",
      "Episode: 3 Number steps 36 Total reward 37.0\n",
      "Episode: 4 Number steps 12 Total reward 13.0\n",
      "Episode: 5 Number steps 12 Total reward 13.0\n",
      "Episode: 6 Number steps 31 Total reward 32.0\n",
      "Episode: 7 Number steps 14 Total reward 15.0\n",
      "Episode: 8 Number steps 24 Total reward 25.0\n",
      "Episode: 9 Number steps 16 Total reward 17.0\n",
      "Episode: 10 Number steps 13 Total reward 14.0\n"
     ]
    }
   ],
   "source": [
    "Random_game()"
   ]
  },
  {
   "cell_type": "code",
   "execution_count": null,
   "metadata": {},
   "outputs": [],
   "source": []
  }
 ],
 "metadata": {
  "kernelspec": {
   "display_name": "Python 3",
   "language": "python",
   "name": "python3"
  },
  "language_info": {
   "codemirror_mode": {
    "name": "ipython",
    "version": 3
   },
   "file_extension": ".py",
   "mimetype": "text/x-python",
   "name": "python",
   "nbconvert_exporter": "python",
   "pygments_lexer": "ipython3",
   "version": "3.7.4"
  }
 },
 "nbformat": 4,
 "nbformat_minor": 2
}
